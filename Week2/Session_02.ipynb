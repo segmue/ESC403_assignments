{
 "cells": [
  {
   "cell_type": "markdown",
   "id": "1c29f293",
   "metadata": {},
   "source": [
    "## Exercise 2: Data Exploration and Analysis"
   ]
  },
  {
   "cell_type": "markdown",
   "id": "c38468b1",
   "metadata": {},
   "source": [
    "For this exercise we are going to use pandas library. You can find more information about pandas in the following link:https://pandas.pydata.org/\n",
    "\n",
    "The dataset for this exercise is from Kaggle called \"Which Ketchup is Best?\" meaning our goal is to answer the question using data science. You can download the dataset here: https://www.kaggle.com/datasets/ulrikthygepedersen/which-ketchup-is-best\n",
    "\n",
    "You can earn on this exercise in total 10 points. At the very end of this notebook, we provide a bonus question that could grant you an additional 1 point. \n",
    "\n",
    "The deadline to submit your solutions to this exercise is **next Tuesday (05.03.2024) by the end of the day (23:59 CET)**. Please submit your solutions in python notebook format (.ipynb). "
   ]
  },
  {
   "cell_type": "markdown",
   "id": "cf86fe52",
   "metadata": {},
   "source": [
    "Data exploration is a essential step in any data analysis. It helps to understand its underlying patterns, relationships and trents. This undestanding can help you to design appropriate models and techniques to analyze the data. Furthemore, you can comprehend the performance of any model easier if you have a full understanding of your dataset."
   ]
  },
  {
   "cell_type": "markdown",
   "id": "8cfb1f0c",
   "metadata": {},
   "source": [
    "First and foremost, we import required libraries and load the dataset as follows:"
   ]
  },
  {
   "cell_type": "code",
   "execution_count": 1,
   "id": "72ffd120",
   "metadata": {},
   "outputs": [],
   "source": [
    "#importing libraries\n",
    "import numpy as np\n",
    "import pandas as pd\n",
    "import matplotlib.pyplot as plt\n",
    "import seaborn as sns\n",
    "# enable inline plotting\n",
    "%matplotlib inline "
   ]
  },
  {
   "cell_type": "code",
   "execution_count": 2,
   "id": "e4330877",
   "metadata": {},
   "outputs": [],
   "source": [
    "#load the data\n",
    "data = pd.read_csv(\"data/Ketchup.csv\", sep=',')"
   ]
  },
  {
   "cell_type": "markdown",
   "id": "1443d15c",
   "metadata": {},
   "source": [
    "We can see the column \"Unnamed:0\" which is the indexing of entries. Since pandas also creates automatically indices, we can delete it as following:"
   ]
  },
  {
   "cell_type": "code",
   "execution_count": 3,
   "id": "3c8574b5",
   "metadata": {},
   "outputs": [],
   "source": [
    "del data[\"Unnamed: 0\"]"
   ]
  },
  {
   "cell_type": "code",
   "execution_count": 4,
   "id": "1ab2ee8a",
   "metadata": {},
   "outputs": [
    {
     "data": {
      "text/html": [
       "<div>\n",
       "<style scoped>\n",
       "    .dataframe tbody tr th:only-of-type {\n",
       "        vertical-align: middle;\n",
       "    }\n",
       "\n",
       "    .dataframe tbody tr th {\n",
       "        vertical-align: top;\n",
       "    }\n",
       "\n",
       "    .dataframe thead th {\n",
       "        text-align: right;\n",
       "    }\n",
       "</style>\n",
       "<table border=\"1\" class=\"dataframe\">\n",
       "  <thead>\n",
       "    <tr style=\"text-align: right;\">\n",
       "      <th></th>\n",
       "      <th>Ketchup.hid</th>\n",
       "      <th>Ketchup.id</th>\n",
       "      <th>Ketchup.choice</th>\n",
       "      <th>price.heinz</th>\n",
       "      <th>price.hunts</th>\n",
       "      <th>price.delmonte</th>\n",
       "      <th>price.stb</th>\n",
       "    </tr>\n",
       "  </thead>\n",
       "  <tbody>\n",
       "    <tr>\n",
       "      <th>0</th>\n",
       "      <td>1</td>\n",
       "      <td>1</td>\n",
       "      <td>heinz</td>\n",
       "      <td>1.19</td>\n",
       "      <td>1.39</td>\n",
       "      <td>1.49</td>\n",
       "      <td>0.89</td>\n",
       "    </tr>\n",
       "    <tr>\n",
       "      <th>1</th>\n",
       "      <td>1</td>\n",
       "      <td>2</td>\n",
       "      <td>heinz</td>\n",
       "      <td>0.99</td>\n",
       "      <td>1.36</td>\n",
       "      <td>1.39</td>\n",
       "      <td>0.95</td>\n",
       "    </tr>\n",
       "    <tr>\n",
       "      <th>2</th>\n",
       "      <td>1</td>\n",
       "      <td>3</td>\n",
       "      <td>hunts</td>\n",
       "      <td>1.46</td>\n",
       "      <td>1.43</td>\n",
       "      <td>1.49</td>\n",
       "      <td>0.99</td>\n",
       "    </tr>\n",
       "    <tr>\n",
       "      <th>3</th>\n",
       "      <td>1</td>\n",
       "      <td>4</td>\n",
       "      <td>hunts</td>\n",
       "      <td>1.46</td>\n",
       "      <td>1.43</td>\n",
       "      <td>1.45</td>\n",
       "      <td>0.99</td>\n",
       "    </tr>\n",
       "    <tr>\n",
       "      <th>4</th>\n",
       "      <td>1</td>\n",
       "      <td>5</td>\n",
       "      <td>stb</td>\n",
       "      <td>1.46</td>\n",
       "      <td>1.36</td>\n",
       "      <td>1.39</td>\n",
       "      <td>0.95</td>\n",
       "    </tr>\n",
       "  </tbody>\n",
       "</table>\n",
       "</div>"
      ],
      "text/plain": [
       "   Ketchup.hid  Ketchup.id Ketchup.choice  price.heinz  price.hunts  \\\n",
       "0            1           1          heinz         1.19         1.39   \n",
       "1            1           2          heinz         0.99         1.36   \n",
       "2            1           3          hunts         1.46         1.43   \n",
       "3            1           4          hunts         1.46         1.43   \n",
       "4            1           5            stb         1.46         1.36   \n",
       "\n",
       "   price.delmonte  price.stb  \n",
       "0            1.49       0.89  \n",
       "1            1.39       0.95  \n",
       "2            1.49       0.99  \n",
       "3            1.45       0.99  \n",
       "4            1.39       0.95  "
      ]
     },
     "execution_count": 4,
     "metadata": {},
     "output_type": "execute_result"
    }
   ],
   "source": [
    "data.head()"
   ]
  },
  {
   "cell_type": "code",
   "execution_count": 5,
   "id": "c1f7e927",
   "metadata": {},
   "outputs": [
    {
     "data": {
      "text/html": [
       "<div>\n",
       "<style scoped>\n",
       "    .dataframe tbody tr th:only-of-type {\n",
       "        vertical-align: middle;\n",
       "    }\n",
       "\n",
       "    .dataframe tbody tr th {\n",
       "        vertical-align: top;\n",
       "    }\n",
       "\n",
       "    .dataframe thead th {\n",
       "        text-align: right;\n",
       "    }\n",
       "</style>\n",
       "<table border=\"1\" class=\"dataframe\">\n",
       "  <thead>\n",
       "    <tr style=\"text-align: right;\">\n",
       "      <th></th>\n",
       "      <th>Ketchup.hid</th>\n",
       "      <th>Ketchup.id</th>\n",
       "      <th>Ketchup.choice</th>\n",
       "      <th>price.heinz</th>\n",
       "      <th>price.hunts</th>\n",
       "      <th>price.delmonte</th>\n",
       "      <th>price.stb</th>\n",
       "    </tr>\n",
       "  </thead>\n",
       "  <tbody>\n",
       "    <tr>\n",
       "      <th>4951</th>\n",
       "      <td>1952</td>\n",
       "      <td>1</td>\n",
       "      <td>stb</td>\n",
       "      <td>1.39</td>\n",
       "      <td>1.31</td>\n",
       "      <td>1.45</td>\n",
       "      <td>0.99</td>\n",
       "    </tr>\n",
       "    <tr>\n",
       "      <th>4952</th>\n",
       "      <td>1953</td>\n",
       "      <td>1</td>\n",
       "      <td>heinz</td>\n",
       "      <td>1.39</td>\n",
       "      <td>1.39</td>\n",
       "      <td>0.99</td>\n",
       "      <td>0.79</td>\n",
       "    </tr>\n",
       "    <tr>\n",
       "      <th>4953</th>\n",
       "      <td>1954</td>\n",
       "      <td>1</td>\n",
       "      <td>stb</td>\n",
       "      <td>1.39</td>\n",
       "      <td>1.43</td>\n",
       "      <td>1.45</td>\n",
       "      <td>0.79</td>\n",
       "    </tr>\n",
       "    <tr>\n",
       "      <th>4954</th>\n",
       "      <td>1955</td>\n",
       "      <td>1</td>\n",
       "      <td>stb</td>\n",
       "      <td>1.39</td>\n",
       "      <td>0.79</td>\n",
       "      <td>1.45</td>\n",
       "      <td>0.79</td>\n",
       "    </tr>\n",
       "    <tr>\n",
       "      <th>4955</th>\n",
       "      <td>1956</td>\n",
       "      <td>1</td>\n",
       "      <td>stb</td>\n",
       "      <td>1.39</td>\n",
       "      <td>1.39</td>\n",
       "      <td>1.46</td>\n",
       "      <td>0.79</td>\n",
       "    </tr>\n",
       "  </tbody>\n",
       "</table>\n",
       "</div>"
      ],
      "text/plain": [
       "      Ketchup.hid  Ketchup.id Ketchup.choice  price.heinz  price.hunts  \\\n",
       "4951         1952           1            stb         1.39         1.31   \n",
       "4952         1953           1          heinz         1.39         1.39   \n",
       "4953         1954           1            stb         1.39         1.43   \n",
       "4954         1955           1            stb         1.39         0.79   \n",
       "4955         1956           1            stb         1.39         1.39   \n",
       "\n",
       "      price.delmonte  price.stb  \n",
       "4951            1.45       0.99  \n",
       "4952            0.99       0.79  \n",
       "4953            1.45       0.79  \n",
       "4954            1.45       0.79  \n",
       "4955            1.46       0.79  "
      ]
     },
     "execution_count": 5,
     "metadata": {},
     "output_type": "execute_result"
    }
   ],
   "source": [
    "data.tail()"
   ]
  },
  {
   "cell_type": "code",
   "execution_count": 6,
   "id": "4685aa0d",
   "metadata": {},
   "outputs": [
    {
     "data": {
      "text/html": [
       "<div>\n",
       "<style scoped>\n",
       "    .dataframe tbody tr th:only-of-type {\n",
       "        vertical-align: middle;\n",
       "    }\n",
       "\n",
       "    .dataframe tbody tr th {\n",
       "        vertical-align: top;\n",
       "    }\n",
       "\n",
       "    .dataframe thead th {\n",
       "        text-align: right;\n",
       "    }\n",
       "</style>\n",
       "<table border=\"1\" class=\"dataframe\">\n",
       "  <thead>\n",
       "    <tr style=\"text-align: right;\">\n",
       "      <th></th>\n",
       "      <th>Ketchup.hid</th>\n",
       "      <th>Ketchup.id</th>\n",
       "      <th>Ketchup.choice</th>\n",
       "      <th>price.heinz</th>\n",
       "      <th>price.hunts</th>\n",
       "      <th>price.delmonte</th>\n",
       "      <th>price.stb</th>\n",
       "    </tr>\n",
       "  </thead>\n",
       "  <tbody>\n",
       "    <tr>\n",
       "      <th>2796</th>\n",
       "      <td>1054</td>\n",
       "      <td>1</td>\n",
       "      <td>stb</td>\n",
       "      <td>1.39</td>\n",
       "      <td>1.36</td>\n",
       "      <td>1.39</td>\n",
       "      <td>0.95</td>\n",
       "    </tr>\n",
       "    <tr>\n",
       "      <th>924</th>\n",
       "      <td>340</td>\n",
       "      <td>5</td>\n",
       "      <td>heinz</td>\n",
       "      <td>1.46</td>\n",
       "      <td>1.43</td>\n",
       "      <td>1.47</td>\n",
       "      <td>0.79</td>\n",
       "    </tr>\n",
       "    <tr>\n",
       "      <th>463</th>\n",
       "      <td>189</td>\n",
       "      <td>1</td>\n",
       "      <td>hunts</td>\n",
       "      <td>1.39</td>\n",
       "      <td>0.89</td>\n",
       "      <td>1.39</td>\n",
       "      <td>0.95</td>\n",
       "    </tr>\n",
       "    <tr>\n",
       "      <th>3299</th>\n",
       "      <td>1253</td>\n",
       "      <td>5</td>\n",
       "      <td>stb</td>\n",
       "      <td>1.39</td>\n",
       "      <td>1.39</td>\n",
       "      <td>1.49</td>\n",
       "      <td>0.89</td>\n",
       "    </tr>\n",
       "    <tr>\n",
       "      <th>4770</th>\n",
       "      <td>1838</td>\n",
       "      <td>12</td>\n",
       "      <td>stb</td>\n",
       "      <td>1.19</td>\n",
       "      <td>1.53</td>\n",
       "      <td>1.47</td>\n",
       "      <td>0.95</td>\n",
       "    </tr>\n",
       "    <tr>\n",
       "      <th>1810</th>\n",
       "      <td>670</td>\n",
       "      <td>2</td>\n",
       "      <td>heinz</td>\n",
       "      <td>1.39</td>\n",
       "      <td>1.39</td>\n",
       "      <td>1.49</td>\n",
       "      <td>0.89</td>\n",
       "    </tr>\n",
       "    <tr>\n",
       "      <th>3021</th>\n",
       "      <td>1145</td>\n",
       "      <td>1</td>\n",
       "      <td>stb</td>\n",
       "      <td>1.46</td>\n",
       "      <td>1.43</td>\n",
       "      <td>1.39</td>\n",
       "      <td>0.99</td>\n",
       "    </tr>\n",
       "    <tr>\n",
       "      <th>2198</th>\n",
       "      <td>815</td>\n",
       "      <td>1</td>\n",
       "      <td>heinz</td>\n",
       "      <td>0.99</td>\n",
       "      <td>1.39</td>\n",
       "      <td>1.49</td>\n",
       "      <td>0.89</td>\n",
       "    </tr>\n",
       "    <tr>\n",
       "      <th>1289</th>\n",
       "      <td>487</td>\n",
       "      <td>1</td>\n",
       "      <td>heinz</td>\n",
       "      <td>0.99</td>\n",
       "      <td>1.49</td>\n",
       "      <td>1.29</td>\n",
       "      <td>0.99</td>\n",
       "    </tr>\n",
       "    <tr>\n",
       "      <th>1076</th>\n",
       "      <td>395</td>\n",
       "      <td>2</td>\n",
       "      <td>hunts</td>\n",
       "      <td>1.39</td>\n",
       "      <td>0.89</td>\n",
       "      <td>1.39</td>\n",
       "      <td>0.95</td>\n",
       "    </tr>\n",
       "  </tbody>\n",
       "</table>\n",
       "</div>"
      ],
      "text/plain": [
       "      Ketchup.hid  Ketchup.id Ketchup.choice  price.heinz  price.hunts  \\\n",
       "2796         1054           1            stb         1.39         1.36   \n",
       "924           340           5          heinz         1.46         1.43   \n",
       "463           189           1          hunts         1.39         0.89   \n",
       "3299         1253           5            stb         1.39         1.39   \n",
       "4770         1838          12            stb         1.19         1.53   \n",
       "1810          670           2          heinz         1.39         1.39   \n",
       "3021         1145           1            stb         1.46         1.43   \n",
       "2198          815           1          heinz         0.99         1.39   \n",
       "1289          487           1          heinz         0.99         1.49   \n",
       "1076          395           2          hunts         1.39         0.89   \n",
       "\n",
       "      price.delmonte  price.stb  \n",
       "2796            1.39       0.95  \n",
       "924             1.47       0.79  \n",
       "463             1.39       0.95  \n",
       "3299            1.49       0.89  \n",
       "4770            1.47       0.95  \n",
       "1810            1.49       0.89  \n",
       "3021            1.39       0.99  \n",
       "2198            1.49       0.89  \n",
       "1289            1.29       0.99  \n",
       "1076            1.39       0.95  "
      ]
     },
     "execution_count": 6,
     "metadata": {},
     "output_type": "execute_result"
    }
   ],
   "source": [
    "data.sample(10)"
   ]
  },
  {
   "cell_type": "code",
   "execution_count": 7,
   "id": "73c89661",
   "metadata": {},
   "outputs": [
    {
     "name": "stdout",
     "output_type": "stream",
     "text": [
      "<class 'pandas.core.frame.DataFrame'>\n",
      "RangeIndex: 4956 entries, 0 to 4955\n",
      "Data columns (total 7 columns):\n",
      " #   Column          Non-Null Count  Dtype  \n",
      "---  ------          --------------  -----  \n",
      " 0   Ketchup.hid     4956 non-null   int64  \n",
      " 1   Ketchup.id      4956 non-null   int64  \n",
      " 2   Ketchup.choice  4956 non-null   object \n",
      " 3   price.heinz     4956 non-null   float64\n",
      " 4   price.hunts     4956 non-null   float64\n",
      " 5   price.delmonte  4956 non-null   float64\n",
      " 6   price.stb       4956 non-null   float64\n",
      "dtypes: float64(4), int64(2), object(1)\n",
      "memory usage: 271.2+ KB\n"
     ]
    }
   ],
   "source": [
    "data.info()"
   ]
  },
  {
   "cell_type": "code",
   "execution_count": 8,
   "id": "f4cbc962",
   "metadata": {},
   "outputs": [
    {
     "data": {
      "text/html": [
       "<div>\n",
       "<style scoped>\n",
       "    .dataframe tbody tr th:only-of-type {\n",
       "        vertical-align: middle;\n",
       "    }\n",
       "\n",
       "    .dataframe tbody tr th {\n",
       "        vertical-align: top;\n",
       "    }\n",
       "\n",
       "    .dataframe thead th {\n",
       "        text-align: right;\n",
       "    }\n",
       "</style>\n",
       "<table border=\"1\" class=\"dataframe\">\n",
       "  <thead>\n",
       "    <tr style=\"text-align: right;\">\n",
       "      <th></th>\n",
       "      <th>Ketchup.hid</th>\n",
       "      <th>Ketchup.id</th>\n",
       "      <th>Ketchup.choice</th>\n",
       "      <th>price.heinz</th>\n",
       "      <th>price.hunts</th>\n",
       "      <th>price.delmonte</th>\n",
       "      <th>price.stb</th>\n",
       "    </tr>\n",
       "  </thead>\n",
       "  <tbody>\n",
       "    <tr>\n",
       "      <th>0</th>\n",
       "      <td>1</td>\n",
       "      <td>1</td>\n",
       "      <td>heinz</td>\n",
       "      <td>1.19</td>\n",
       "      <td>1.39</td>\n",
       "      <td>1.49</td>\n",
       "      <td>0.89</td>\n",
       "    </tr>\n",
       "    <tr>\n",
       "      <th>1</th>\n",
       "      <td>1</td>\n",
       "      <td>2</td>\n",
       "      <td>heinz</td>\n",
       "      <td>0.99</td>\n",
       "      <td>1.36</td>\n",
       "      <td>1.39</td>\n",
       "      <td>0.95</td>\n",
       "    </tr>\n",
       "    <tr>\n",
       "      <th>2</th>\n",
       "      <td>1</td>\n",
       "      <td>3</td>\n",
       "      <td>hunts</td>\n",
       "      <td>1.46</td>\n",
       "      <td>1.43</td>\n",
       "      <td>1.49</td>\n",
       "      <td>0.99</td>\n",
       "    </tr>\n",
       "  </tbody>\n",
       "</table>\n",
       "</div>"
      ],
      "text/plain": [
       "   Ketchup.hid  Ketchup.id Ketchup.choice  price.heinz  price.hunts  \\\n",
       "0            1           1          heinz         1.19         1.39   \n",
       "1            1           2          heinz         0.99         1.36   \n",
       "2            1           3          hunts         1.46         1.43   \n",
       "\n",
       "   price.delmonte  price.stb  \n",
       "0            1.49       0.89  \n",
       "1            1.39       0.95  \n",
       "2            1.49       0.99  "
      ]
     },
     "execution_count": 8,
     "metadata": {},
     "output_type": "execute_result"
    }
   ],
   "source": [
    "data.iloc[0:3]"
   ]
  },
  {
   "cell_type": "code",
   "execution_count": 9,
   "id": "3050062f",
   "metadata": {},
   "outputs": [
    {
     "data": {
      "text/plain": [
       "0       1.19\n",
       "1       0.99\n",
       "2       1.46\n",
       "3       1.46\n",
       "4       1.46\n",
       "        ... \n",
       "4951    1.39\n",
       "4952    1.39\n",
       "4953    1.39\n",
       "4954    1.39\n",
       "4955    1.39\n",
       "Name: price.heinz, Length: 4956, dtype: float64"
      ]
     },
     "execution_count": 9,
     "metadata": {},
     "output_type": "execute_result"
    }
   ],
   "source": [
    "data[\"price.heinz\"]"
   ]
  },
  {
   "cell_type": "code",
   "execution_count": 10,
   "id": "5a871e21",
   "metadata": {},
   "outputs": [
    {
     "data": {
      "text/plain": [
       "array([1.19, 0.99, 1.46, ..., 1.39, 1.39, 1.39])"
      ]
     },
     "execution_count": 10,
     "metadata": {},
     "output_type": "execute_result"
    }
   ],
   "source": [
    "#translating to numpy array\n",
    "data[\"price.heinz\"].to_numpy()"
   ]
  },
  {
   "cell_type": "code",
   "execution_count": 11,
   "id": "09a62c13",
   "metadata": {},
   "outputs": [
    {
     "data": {
      "text/html": [
       "<div>\n",
       "<style scoped>\n",
       "    .dataframe tbody tr th:only-of-type {\n",
       "        vertical-align: middle;\n",
       "    }\n",
       "\n",
       "    .dataframe tbody tr th {\n",
       "        vertical-align: top;\n",
       "    }\n",
       "\n",
       "    .dataframe thead th {\n",
       "        text-align: right;\n",
       "    }\n",
       "</style>\n",
       "<table border=\"1\" class=\"dataframe\">\n",
       "  <thead>\n",
       "    <tr style=\"text-align: right;\">\n",
       "      <th></th>\n",
       "      <th>Ketchup.hid</th>\n",
       "      <th>Ketchup.id</th>\n",
       "      <th>price.heinz</th>\n",
       "      <th>price.hunts</th>\n",
       "      <th>price.delmonte</th>\n",
       "      <th>price.stb</th>\n",
       "    </tr>\n",
       "  </thead>\n",
       "  <tbody>\n",
       "    <tr>\n",
       "      <th>count</th>\n",
       "      <td>4956.000000</td>\n",
       "      <td>4956.000000</td>\n",
       "      <td>4956.000000</td>\n",
       "      <td>4956.000000</td>\n",
       "      <td>4956.000000</td>\n",
       "      <td>4956.000000</td>\n",
       "    </tr>\n",
       "    <tr>\n",
       "      <th>mean</th>\n",
       "      <td>936.721550</td>\n",
       "      <td>3.095642</td>\n",
       "      <td>1.248900</td>\n",
       "      <td>1.343860</td>\n",
       "      <td>1.426945</td>\n",
       "      <td>0.921178</td>\n",
       "    </tr>\n",
       "    <tr>\n",
       "      <th>std</th>\n",
       "      <td>549.104119</td>\n",
       "      <td>3.065865</td>\n",
       "      <td>0.204913</td>\n",
       "      <td>0.176185</td>\n",
       "      <td>0.114157</td>\n",
       "      <td>0.068198</td>\n",
       "    </tr>\n",
       "    <tr>\n",
       "      <th>min</th>\n",
       "      <td>1.000000</td>\n",
       "      <td>1.000000</td>\n",
       "      <td>0.790000</td>\n",
       "      <td>0.790000</td>\n",
       "      <td>0.890000</td>\n",
       "      <td>0.750000</td>\n",
       "    </tr>\n",
       "    <tr>\n",
       "      <th>25%</th>\n",
       "      <td>463.750000</td>\n",
       "      <td>1.000000</td>\n",
       "      <td>0.990000</td>\n",
       "      <td>1.360000</td>\n",
       "      <td>1.390000</td>\n",
       "      <td>0.890000</td>\n",
       "    </tr>\n",
       "    <tr>\n",
       "      <th>50%</th>\n",
       "      <td>923.000000</td>\n",
       "      <td>2.000000</td>\n",
       "      <td>1.190000</td>\n",
       "      <td>1.390000</td>\n",
       "      <td>1.460000</td>\n",
       "      <td>0.950000</td>\n",
       "    </tr>\n",
       "    <tr>\n",
       "      <th>75%</th>\n",
       "      <td>1406.000000</td>\n",
       "      <td>4.000000</td>\n",
       "      <td>1.460000</td>\n",
       "      <td>1.430000</td>\n",
       "      <td>1.490000</td>\n",
       "      <td>0.950000</td>\n",
       "    </tr>\n",
       "    <tr>\n",
       "      <th>max</th>\n",
       "      <td>1956.000000</td>\n",
       "      <td>24.000000</td>\n",
       "      <td>1.470000</td>\n",
       "      <td>1.530000</td>\n",
       "      <td>1.490000</td>\n",
       "      <td>0.990000</td>\n",
       "    </tr>\n",
       "  </tbody>\n",
       "</table>\n",
       "</div>"
      ],
      "text/plain": [
       "       Ketchup.hid   Ketchup.id  price.heinz  price.hunts  price.delmonte  \\\n",
       "count  4956.000000  4956.000000  4956.000000  4956.000000     4956.000000   \n",
       "mean    936.721550     3.095642     1.248900     1.343860        1.426945   \n",
       "std     549.104119     3.065865     0.204913     0.176185        0.114157   \n",
       "min       1.000000     1.000000     0.790000     0.790000        0.890000   \n",
       "25%     463.750000     1.000000     0.990000     1.360000        1.390000   \n",
       "50%     923.000000     2.000000     1.190000     1.390000        1.460000   \n",
       "75%    1406.000000     4.000000     1.460000     1.430000        1.490000   \n",
       "max    1956.000000    24.000000     1.470000     1.530000        1.490000   \n",
       "\n",
       "         price.stb  \n",
       "count  4956.000000  \n",
       "mean      0.921178  \n",
       "std       0.068198  \n",
       "min       0.750000  \n",
       "25%       0.890000  \n",
       "50%       0.950000  \n",
       "75%       0.950000  \n",
       "max       0.990000  "
      ]
     },
     "execution_count": 11,
     "metadata": {},
     "output_type": "execute_result"
    }
   ],
   "source": [
    "data.describe()"
   ]
  },
  {
   "cell_type": "markdown",
   "id": "11930ea6",
   "metadata": {},
   "source": [
    "We can notice from above that Ketchup.choice is not described since it is a categorical data. \n",
    "\n",
    "**Task 1 (1 point)**. Replace categories (heinz, stb, hunts and delmonte) with integers as 1,2,3,4 and print the description of the resultant dataset. "
   ]
  },
  {
   "cell_type": "code",
   "execution_count": null,
   "id": "48bcf37f",
   "metadata": {},
   "outputs": [],
   "source": []
  },
  {
   "cell_type": "markdown",
   "id": "824d62fc",
   "metadata": {},
   "source": [
    "**Task 2 (1 point)**. Group the dataset according to Ketchup.choice and print its description. Which ketchup is leading from the number of entries?"
   ]
  },
  {
   "cell_type": "code",
   "execution_count": null,
   "id": "fad22ccf",
   "metadata": {},
   "outputs": [],
   "source": []
  },
  {
   "cell_type": "markdown",
   "id": "06f2d1e8",
   "metadata": {},
   "source": [
    "Plotting histograms of data helps us to understand the distrubiton and the trend."
   ]
  },
  {
   "cell_type": "code",
   "execution_count": 12,
   "id": "345d2b2f",
   "metadata": {},
   "outputs": [
    {
     "data": {
      "text/plain": [
       "array([[<Axes: title={'center': 'price.delmonte'}>]], dtype=object)"
      ]
     },
     "execution_count": 12,
     "metadata": {},
     "output_type": "execute_result"
    },
    {
     "data": {
      "image/png": "[encoded data removed]",
      "text/plain": [
       "<Figure size 640x480 with 1 Axes>"
      ]
     },
     "metadata": {},
     "output_type": "display_data"
    },
    {
     "data": {
      "image/png": "[encoded data removed]",
      "text/plain": [
       "<Figure size 640x480 with 1 Axes>"
      ]
     },
     "metadata": {},
     "output_type": "display_data"
    },
    {
     "data": {
      "image/png": "[encoded data removed]",
      "text/plain": [
       "<Figure size 640x480 with 1 Axes>"
      ]
     },
     "metadata": {},
     "output_type": "display_data"
    },
    {
     "data": {
      "image/png": "[encoded data removed]",
      "text/plain": [
       "<Figure size 640x480 with 1 Axes>"
      ]
     },
     "metadata": {},
     "output_type": "display_data"
    }
   ],
   "source": [
    "data.hist([\"price.heinz\"])\n",
    "data.hist([ \"price.hunts\"])\n",
    "data.hist([ \"price.stb\"])\n",
    "data.hist([ \"price.delmonte\"])\n"
   ]
  },
  {
   "cell_type": "markdown",
   "id": "00a6625c",
   "metadata": {},
   "source": [
    "**Task 3 (2 point)**. Plot the same histograms of each pricing column in the form of subplots (2x2) and set titles accordingly."
   ]
  },
  {
   "cell_type": "code",
   "execution_count": null,
   "id": "823467ff",
   "metadata": {},
   "outputs": [],
   "source": []
  },
  {
   "cell_type": "markdown",
   "id": "4531d28b",
   "metadata": {},
   "source": [
    "**Task 4 (2 points)**. Create a new column with chosen ketchup prices and name the column as price.choice. For example, if Ketchup.choice is heinz, then insert into a row of price.choice a corresponding value from price.heinz."
   ]
  },
  {
   "cell_type": "code",
   "execution_count": null,
   "id": "d295085d",
   "metadata": {},
   "outputs": [],
   "source": []
  },
  {
   "cell_type": "markdown",
   "id": "8f2020b4",
   "metadata": {},
   "source": [
    "**Task 5 (2 points)**. Plot a normalized histogram of the price.choice with its kernel density estimate (kde) for the probability density function. "
   ]
  },
  {
   "cell_type": "code",
   "execution_count": null,
   "id": "1948789c",
   "metadata": {},
   "outputs": [],
   "source": []
  },
  {
   "cell_type": "markdown",
   "id": "66d8fc24",
   "metadata": {},
   "source": [
    "Thanks to the open-source nature of python, there are tons of libraries that can make our lives easier. Besides, matplotlib that we used in our previous tasks, there are other plotting libraries such as plotly. It's interactive and easy to use. You can find the documentation for it here:https://plotly.com/python/\n",
    "\n",
    "Also, you can install any library directly from your notebook as follows:\n",
    "\n",
    "%pip install plotly"
   ]
  },
  {
   "cell_type": "code",
   "execution_count": 18,
   "id": "ade91cc5",
   "metadata": {},
   "outputs": [],
   "source": [
    "import plotly.express as px"
   ]
  },
  {
   "cell_type": "markdown",
   "id": "c63bfb4a",
   "metadata": {},
   "source": [
    "**Task 6 (1 point)**. Make a figure as boxplots of each ketchup.choice in terms of price.choice. You might need to search for boxplots from plotly documentation for that. "
   ]
  },
  {
   "cell_type": "code",
   "execution_count": null,
   "id": "89beae8c",
   "metadata": {},
   "outputs": [],
   "source": []
  },
  {
   "cell_type": "markdown",
   "id": "c3897a58",
   "metadata": {},
   "source": [
    "Sometimes we play around with the data a lot and make too many changes to original data. Therefore, it is recommended to create the copy of the data and modify on it only."
   ]
  },
  {
   "cell_type": "code",
   "execution_count": 20,
   "id": "3dc325c7",
   "metadata": {},
   "outputs": [],
   "source": [
    "datacopy = data.copy()"
   ]
  },
  {
   "cell_type": "markdown",
   "id": "9e153370",
   "metadata": {},
   "source": [
    "**Task 7 (1 point)**.Estimate the correlation matrix in-between variables first."
   ]
  },
  {
   "cell_type": "code",
   "execution_count": null,
   "id": "02e0d9e7",
   "metadata": {},
   "outputs": [],
   "source": []
  },
  {
   "cell_type": "markdown",
   "id": "b5a30905",
   "metadata": {},
   "source": [
    "Plotting the correlation matrix in the form of heat map helps to perceive the results easier."
   ]
  },
  {
   "cell_type": "code",
   "execution_count": 22,
   "id": "8d473d3e",
   "metadata": {},
   "outputs": [
    {
     "data": {
      "image/png": "[encoded data removed]",
      "text/plain": [
       "<Figure size 720x720 with 2 Axes>"
      ]
     },
     "metadata": {
      "needs_background": "light"
     },
     "output_type": "display_data"
    }
   ],
   "source": [
    "plt.figure(figsize=(10,10))\n",
    "ax = sns.heatmap(\n",
    "    corr, \n",
    "    vmin=-1, vmax=1, center=0,\n",
    "    cmap=sns.diverging_palette(20, 220, n=200),\n",
    "    square=True, annot=True\n",
    ")\n",
    "ax.set_xticklabels(\n",
    "    ax.get_xticklabels(),\n",
    "    rotation=45,\n",
    "    horizontalalignment='right'\n",
    ")\n",
    "ax.set_yticklabels(\n",
    "    ax.get_yticklabels(),\n",
    "    rotation=45,\n",
    ");"
   ]
  },
  {
   "cell_type": "markdown",
   "id": "211e3423",
   "metadata": {},
   "source": [
    "**Task 8 (bonus point)**. What is your conclusion? Which ketchup is the best? Justify your answer."
   ]
  },
  {
   "cell_type": "markdown",
   "id": "2b0a5468",
   "metadata": {},
   "source": [
    "Your response:"
   ]
  }
 ],
 "metadata": {
  "kernelspec": {
   "display_name": "Python 3",
   "language": "python",
   "name": "python3"
  },
  "language_info": {
   "codemirror_mode": {
    "name": "ipython",
    "version": 3
   },
   "file_extension": ".py",
   "mimetype": "text/x-python",
   "name": "python",
   "nbconvert_exporter": "python",
   "pygments_lexer": "ipython3",
   "version": "3.11.4"
  }
 },
 "nbformat": 4,
 "nbformat_minor": 5
}
